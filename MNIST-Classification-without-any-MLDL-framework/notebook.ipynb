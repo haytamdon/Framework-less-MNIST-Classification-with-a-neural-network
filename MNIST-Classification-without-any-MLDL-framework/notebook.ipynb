{
 "cells": [
  {
   "cell_type": "markdown",
   "source": "This notebook objective is to create a neural network without the need of using any ML or deep learning framework such as TensorFlow or Pytorch.",
   "metadata": {
    "tags": [],
    "cell_id": "00000-854fae37-9b7f-42b3-9ba6-f7b9f0bd6f2e",
    "deepnote_app_coordinates": {
     "x": 0,
     "y": null,
     "w": 12,
     "h": 5
    },
    "deepnote_cell_type": "markdown"
   }
  },
  {
   "cell_type": "markdown",
   "source": "This notebook is inspired from Micheal Nielson book NeuralNetworksAndDeepLearning.com and the Learning Deep Learning book and other ressources. This wouldn't be called a project if I only took the pre-existing python files and copy pasted them. So I made a neural networks with my own code, of course the same concept with some slight changes, but this code deviates from those pre-existing popular codes of neural networks.",
   "metadata": {
    "tags": [],
    "cell_id": "00001-e05b385a-945a-4a75-a7cc-849eb1114e9d",
    "deepnote_app_coordinates": {
     "x": 0,
     "y": 6,
     "w": 12,
     "h": 5
    },
    "deepnote_cell_type": "markdown"
   }
  },
  {
   "cell_type": "markdown",
   "source": "It was not easy writing all of this notebook and certainly debugging it wasn't, so I hope you read through it and enjoy",
   "metadata": {
    "tags": [],
    "cell_id": "00002-9bc828ac-e550-4181-a7e2-f656cb9255ed",
    "deepnote_app_coordinates": {
     "x": 0,
     "y": 12,
     "w": 12,
     "h": 5
    },
    "deepnote_cell_type": "markdown"
   }
  },
  {
   "cell_type": "code",
   "metadata": {
    "tags": [],
    "cell_id": "00000-48bea4d3-9396-4d83-8991-82d5af0f9bb3",
    "deepnote_to_be_reexecuted": false,
    "source_hash": "74826b86",
    "execution_start": 1637592266930,
    "execution_millis": 1395,
    "deepnote_app_coordinates": {
     "x": 0,
     "y": 18,
     "w": 12,
     "h": 5
    },
    "deepnote_cell_type": "code"
   },
   "source": "import numpy as np\nimport matplotlib.pyplot as plt\nimport seaborn as sns",
   "execution_count": 1,
   "outputs": []
  },
  {
   "cell_type": "code",
   "metadata": {
    "tags": [],
    "cell_id": "00000-9cda558f-2da5-4c90-815d-8bbcb2f618d8",
    "deepnote_to_be_reexecuted": false,
    "source_hash": "94d90889",
    "execution_start": 1637592268326,
    "execution_millis": 23786,
    "deepnote_app_coordinates": {
     "x": 0,
     "y": 24,
     "w": 12,
     "h": 5
    },
    "deepnote_cell_type": "code"
   },
   "source": "from sklearn.datasets import fetch_openml\nmnist = fetch_openml('mnist_784', version=1, as_frame=False)",
   "execution_count": 2,
   "outputs": []
  },
  {
   "cell_type": "code",
   "metadata": {
    "tags": [],
    "cell_id": "00002-30853149-7107-4426-a96d-e3d1f57ebecf",
    "deepnote_to_be_reexecuted": false,
    "source_hash": "48325186",
    "execution_start": 1637592292118,
    "execution_millis": 0,
    "deepnote_app_coordinates": {
     "x": 0,
     "y": 30,
     "w": 12,
     "h": 5
    },
    "deepnote_cell_type": "code"
   },
   "source": "X, y = mnist[\"data\"], mnist[\"target\"]\ntrain_images, test_images, train_labels, test_labels = X[:60000], X[60000:], y[:60000], y[60000:]",
   "execution_count": 3,
   "outputs": []
  },
  {
   "cell_type": "code",
   "metadata": {
    "tags": [],
    "cell_id": "00001-8c1f4139-0bc6-4581-8201-7e477e903c13",
    "deepnote_to_be_reexecuted": false,
    "source_hash": "88b9cf7d",
    "execution_start": 1637592292122,
    "execution_millis": 478,
    "deepnote_app_coordinates": {
     "x": 0,
     "y": 36,
     "w": 12,
     "h": 5
    },
    "deepnote_cell_type": "code"
   },
   "source": "X_train = train_images.reshape(60000, 784)\nmean = np.mean(X_train)\nstddev = np.std(X_train)\nX_train = (X_train - mean) / stddev\nX_test = test_images.reshape(10000, 784)\nX_test = (X_test - mean) / stddev",
   "execution_count": 4,
   "outputs": []
  },
  {
   "cell_type": "code",
   "metadata": {
    "tags": [],
    "cell_id": "00003-48d2bdf0-08d1-4aaf-8e6a-925b7032c02b",
    "deepnote_to_be_reexecuted": false,
    "source_hash": "2283ad1a",
    "execution_start": 1637592292623,
    "execution_millis": 26,
    "deepnote_app_coordinates": {
     "x": 0,
     "y": 42,
     "w": 12,
     "h": 5
    },
    "deepnote_cell_type": "code"
   },
   "source": "y_train = np.zeros((60000, 10))\ny_test = np.zeros((10000, 10))\nfor i, y in enumerate(train_labels):\n    y_train[i][int(y)] = 1\nfor i, y in enumerate(test_labels):\n    y_test[i][int(y)] = 1\nindex_list = list(range(len(X_train)))",
   "execution_count": 5,
   "outputs": []
  },
  {
   "cell_type": "code",
   "metadata": {
    "tags": [],
    "cell_id": "00005-6701c725-d4b4-4210-bde1-5c1194a5bb88",
    "deepnote_to_be_reexecuted": false,
    "source_hash": "2eaa1405",
    "execution_start": 1637592292652,
    "execution_millis": 1,
    "deepnote_app_coordinates": {
     "x": 0,
     "y": 48,
     "w": 12,
     "h": 5
    },
    "deepnote_cell_type": "code"
   },
   "source": "np.random.seed(7)\nLEARNING_RATE = 0.01 #Learning Rate\nEPOCHS = 20",
   "execution_count": 6,
   "outputs": []
  },
  {
   "cell_type": "code",
   "metadata": {
    "tags": [],
    "cell_id": "00005-3a87ff20-85d9-4480-8a0d-f07e1ee8e1d2",
    "deepnote_to_be_reexecuted": false,
    "source_hash": "f47f724",
    "execution_start": 1637592292659,
    "execution_millis": 0,
    "deepnote_app_coordinates": {
     "x": 0,
     "y": 54,
     "w": 12,
     "h": 5
    },
    "deepnote_cell_type": "code"
   },
   "source": "def layer_weights_init(number_of_neurons, number_of_inputs):\n    w_matrix = np.zeros((number_of_neurons, number_of_inputs+1)) #the +1 is for the bias weight\n    for i in range(number_of_neurons):\n        for j in range(1,(number_of_inputs+1)):\n            w_matrix[i][j]=np.random.uniform(-0.1, 0.1)\n    return w_matrix",
   "execution_count": 7,
   "outputs": []
  },
  {
   "cell_type": "markdown",
   "source": "We are creating a neural network with 4 layers",
   "metadata": {
    "tags": [],
    "cell_id": "00006-d4554e6e-1b04-4b6c-af8e-afe87e911c85",
    "deepnote_app_coordinates": {
     "x": 0,
     "y": 60,
     "w": 12,
     "h": 5
    },
    "deepnote_cell_type": "markdown"
   }
  },
  {
   "cell_type": "markdown",
   "source": "One input layer, One output layer\nTwo hidden layers",
   "metadata": {
    "tags": [],
    "cell_id": "00007-38954bca-8745-47b4-b18d-31560eba053c",
    "deepnote_app_coordinates": {
     "x": 0,
     "y": 66,
     "w": 12,
     "h": 5
    },
    "deepnote_cell_type": "markdown"
   }
  },
  {
   "cell_type": "code",
   "metadata": {
    "tags": [],
    "cell_id": "00008-4fb0e4e7-404a-4998-8087-98f94ac0f84e",
    "deepnote_to_be_reexecuted": false,
    "source_hash": "ca563323",
    "execution_start": 1637592292662,
    "execution_millis": 81,
    "deepnote_app_coordinates": {
     "x": 0,
     "y": 72,
     "w": 12,
     "h": 5
    },
    "deepnote_cell_type": "code"
   },
   "source": "W_1 = layer_weights_init(25, 784)\nR_1 = np.zeros(25)\nError_1 = np.zeros(25)\n\nW_Out = layer_weights_init(10, 25)\nR_Out = np.zeros(10)\nError_Out = np.zeros(10)",
   "execution_count": 8,
   "outputs": []
  },
  {
   "cell_type": "code",
   "metadata": {
    "tags": [],
    "cell_id": "00008-f040c1d8-edc4-46c3-ae8f-54f2f5a57fc8",
    "deepnote_to_be_reexecuted": false,
    "source_hash": "47491d19",
    "execution_start": 1637592292774,
    "execution_millis": 1,
    "deepnote_app_coordinates": {
     "x": 0,
     "y": 78,
     "w": 12,
     "h": 5
    },
    "deepnote_cell_type": "code"
   },
   "source": "def feedforward(x):\n    global R_1\n    global R_Out\n    for i, w in enumerate(W_1):\n        z = np.dot(w,x)\n        R_1[i] = np.tanh(z)\n    R_1_array = np.concatenate((np.array([1.0]), R_1))\n    for i, w in enumerate(W_Out):\n        z = np.dot(w,R_1_array)\n        R_Out[i] = 1.0 / (1.0 + np.exp(-z))\n\ndef backpropagation(y_real):\n    global Error_1\n    global Error_Out\n    for i, y in enumerate(R_Out):\n        Loss_derivative = -(y_real[i] -y)\n        sigmoid_prime = y * (1.0-y)\n        Error_Out[i] = Loss_derivative * sigmoid_prime\n    for i, y in enumerate(R_1):\n        error_weights = []\n        for w in W_Out:\n            error_weights.append(w[i+1])\n        error_weight_array = np.array(error_weights)\n        derivative = 1.0 - y**2 \n        weighted_error = np.dot(error_weight_array, Error_Out)\n        Error_1[i] = weighted_error * derivative\n\n\ndef adjust_weights(x):\n    global W_Out\n    global W_1\n    for i, error in enumerate(Error_1):\n        W_1[i] -= (x * LEARNING_RATE * error)\n    R_1_array = np.concatenate(\n        (np.array([1.0]), R_1))\n    for i, error in enumerate(Error_Out):\n        W_Out[i] -= (R_1_array * LEARNING_RATE * error)",
   "execution_count": 9,
   "outputs": []
  },
  {
   "cell_type": "code",
   "metadata": {
    "tags": [],
    "cell_id": "00009-fc39ad07-f724-4a83-8b67-ffe25b688178",
    "deepnote_to_be_reexecuted": false,
    "source_hash": "235a8583",
    "execution_start": 1637592292775,
    "execution_millis": 0,
    "deepnote_app_coordinates": {
     "x": 0,
     "y": 84,
     "w": 12,
     "h": 5
    },
    "deepnote_cell_type": "code"
   },
   "source": "chart_x = []\nchart_y_train = []\nchart_y_test = []\ndef show_learning(epoch_no, train_acc, test_acc):\n    global chart_x\n    global chart_y_train\n    global chart_y_test\n    print('epoch no:', epoch_no, ', train_acc: ',\n          '%6.4f' % train_acc,\n          ', test_acc: ', '%6.4f' % test_acc)    \n    chart_x.append(epoch_no + 1)\n    chart_y_train.append(1.0 - train_acc)\n    chart_y_test.append(1.0 - test_acc)\ndef plot_learning():\n    plt.plot(chart_x, chart_y_train, 'r-', label='training error')\n    plt.plot(chart_x, chart_y_test, 'b-', label='test error')\n    plt.axis([0, len(chart_x), 0.0, 1.0])\n    plt.xlabel('training epochs')\n    plt.ylabel('error')\n    plt.legend()\n    plt.show()",
   "execution_count": 10,
   "outputs": []
  },
  {
   "cell_type": "markdown",
   "source": "random shit gooooooo",
   "metadata": {
    "tags": [],
    "cell_id": "00015-b4282f0b-9987-42c3-96fa-8ac113374fd2",
    "deepnote_cell_type": "markdown"
   }
  },
  {
   "cell_type": "code",
   "metadata": {
    "tags": [],
    "cell_id": "00010-03000475-261c-4921-b349-d61d8d7365d0",
    "deepnote_to_be_reexecuted": false,
    "source_hash": "bfe5e44f",
    "execution_start": 1637592292776,
    "execution_millis": 880039,
    "deepnote_output_heights": [
     null,
     268
    ],
    "deepnote_app_coordinates": {
     "x": 0,
     "y": 90,
     "w": 12,
     "h": 5
    },
    "deepnote_cell_type": "code"
   },
   "source": "# Network training loop.\nfor i in range(EPOCHS): # Train EPOCHS iterations\n    np.random.shuffle(index_list) # Randomize order\n    correct_training_results = 0\n    for j in index_list: # Train on all examples\n        x = np.concatenate((np.array([1.0]), X_train[j]))\n        feedforward(x)\n        if R_Out.argmax() == y_train[j].argmax():\n            correct_training_results += 1\n        backpropagation(y_train[j])\n        adjust_weights(x)\n        \n    correct_test_results = 0\n    for j in range(len(X_test)): # Evaluate network\n        x = np.concatenate((np.array([1.0]), X_test[j]))\n        feedforward(x)\n        if R_Out.argmax() == y_test[j].argmax():\n            correct_test_results += 1\n    show_learning(i, correct_training_results/len(X_train),\n                correct_test_results/len(X_test))\nplot_learning()",
   "execution_count": 11,
   "outputs": [
    {
     "name": "stdout",
     "text": "epoch no: 0 , train_acc:  0.8563 , test_acc:  0.9157\nepoch no: 1 , train_acc:  0.9203 , test_acc:  0.9240\nepoch no: 2 , train_acc:  0.9275 , test_acc:  0.9266\nepoch no: 3 , train_acc:  0.9326 , test_acc:  0.9302\nepoch no: 4 , train_acc:  0.9351 , test_acc:  0.9322\nepoch no: 5 , train_acc:  0.9381 , test_acc:  0.9321\nepoch no: 6 , train_acc:  0.9404 , test_acc:  0.9336\nepoch no: 7 , train_acc:  0.9425 , test_acc:  0.9372\nepoch no: 8 , train_acc:  0.9439 , test_acc:  0.9345\nepoch no: 9 , train_acc:  0.9462 , test_acc:  0.9375\nepoch no: 10 , train_acc:  0.9468 , test_acc:  0.9345\nepoch no: 11 , train_acc:  0.9478 , test_acc:  0.9374\nepoch no: 12 , train_acc:  0.9488 , test_acc:  0.9381\nepoch no: 13 , train_acc:  0.9498 , test_acc:  0.9360\nepoch no: 14 , train_acc:  0.9507 , test_acc:  0.9391\nepoch no: 15 , train_acc:  0.9510 , test_acc:  0.9391\nepoch no: 16 , train_acc:  0.9517 , test_acc:  0.9376\nepoch no: 17 , train_acc:  0.9527 , test_acc:  0.9376\nepoch no: 18 , train_acc:  0.9537 , test_acc:  0.9414\nepoch no: 19 , train_acc:  0.9538 , test_acc:  0.9401\n",
     "output_type": "stream"
    },
    {
     "data": {
      "text/plain": "<Figure size 432x288 with 1 Axes>",
      "image/png": "[encoded data removed]"
     },
     "metadata": {
      "needs_background": "light",
      "image/png": {
       "width": 397,
       "height": 266
      }
     },
     "output_type": "display_data"
    }
   ]
  },
  {
   "cell_type": "markdown",
   "source": "<a style='text-decoration:none;line-height:16px;display:flex;color:#5B5B62;padding:10px;justify-content:end;' href='https://deepnote.com?utm_source=created-in-deepnote-cell&projectId=ee693355-e352-45ea-bd8a-cce77b5db4b4' target=\"_blank\">\n<img alt='Created in deepnote.com' style='display:inline;max-height:16px;margin:0px;margin-right:7.5px;' src='data:image/svg+xml;base64,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' > </img>\nCreated in <span style='font-weight:600;margin-left:4px;'>Deepnote</span></a>",
   "metadata": {
    "tags": [],
    "created_in_deepnote_cell": true,
    "deepnote_cell_type": "markdown"
   }
  }
 ],
 "nbformat": 4,
 "nbformat_minor": 2,
 "metadata": {
  "orig_nbformat": 2,
  "deepnote": {
   "is_reactive": false
  },
  "deepnote_notebook_id": "f78164b3-bd70-4642-aeda-59ae54be1b94",
  "deepnote_execution_queue": [],
  "deepnote_app_layout": "article"
 }
}